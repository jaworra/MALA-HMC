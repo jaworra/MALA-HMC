{
 "cells": [
  {
   "cell_type": "markdown",
   "metadata": {},
   "source": [
    "### Metropolis-adjusted Langevin algorithm (MALA)"
   ]
  },
  {
   "cell_type": "markdown",
   "metadata": {},
   "source": [
    "$$ Y \\sim \\mathcal{N}(X_n + h \\frac{\\nabla\\pi(X_n)}{\\pi(X_n)}, 2hI) $$"
   ]
  },
  {
   "cell_type": "markdown",
   "metadata": {},
   "source": [
    "$$ \\alpha(X_n, Y) = \\frac{\\pi(Y)}{\\pi(X_n)} \\exp \\Big\\{ \\frac{1}{4h}\\Big( \\big|Y - X_n - h \\frac{\\nabla\\pi(X_n)}{\\pi(X_n)}\\big|^2 - \\big|X_n - Y - h \\frac{\\nabla\\pi(Y)}{\\pi(Y)}\\big|^2 \\Big) \\Big\\}$$"
   ]
  },
  {
   "cell_type": "code",
   "execution_count": 7,
   "metadata": {},
   "outputs": [],
   "source": [
    "%matplotlib inline\n",
    "import numpy as np\n",
    "import matplotlib.pyplot as plt"
   ]
  },
  {
   "cell_type": "code",
   "execution_count": 76,
   "metadata": {},
   "outputs": [],
   "source": [
    "def mala(pi, grad_pi, x_0, h, n_of_steps):\n",
    "    #x = x_0\n",
    "    x = np.zeros((n_of_steps, x_0.size))\n",
    "    x[0] = x_0\n",
    "    #sumx = np.zeros(x_0.shape)\n",
    "    scale = np.sqrt(2*h)\n",
    "    for i in range(1, n_of_steps):\n",
    "        y = np.random.normal(x[i-1]+(h/pi(x[i-1]))*grad_pi(x[i-1]), scale)\n",
    "        sqsum1 = np.sum((y-x[i-1]-(h/pi(x[i-1]))*grad_pi(x[i-1]))**2)\n",
    "        sqsum2 = np.sum((x[i-1]-y-(h/pi(y))*grad_pi(y))**2)\n",
    "        alpha_cand = (pi(y)/pi(x[i-1])) * np.exp( (sqsum1 - sqsum2) / (4*h) )\n",
    "        alpha = min(alpha_cand, 1)\n",
    "        if np.random.rand() < alpha:\n",
    "            x[i] = y\n",
    "        else:\n",
    "            x[i] = x[i-1]\n",
    "    return x"
   ]
  },
  {
   "cell_type": "code",
   "execution_count": 77,
   "metadata": {},
   "outputs": [],
   "source": [
    "def norm(x):\n",
    "    return (1/np.sqrt(2*np.pi))*np.exp(-x**2/2)\n",
    "\n",
    "def grad_norm(x):\n",
    "    return -(x/np.sqrt(2*np.pi))*np.exp(-x**2/2)"
   ]
  },
  {
   "cell_type": "code",
   "execution_count": 78,
   "metadata": {},
   "outputs": [],
   "source": [
    "mala_samples = mala(norm, grad_norm, np.array([0]), 0.01, 10**5)"
   ]
  },
  {
   "cell_type": "code",
   "execution_count": 80,
   "metadata": {
    "scrolled": true
   },
   "outputs": [
    {
     "data": {
      "text/plain": [
       "[<matplotlib.lines.Line2D at 0x168e747b588>]"
      ]
     },
     "execution_count": 80,
     "metadata": {},
     "output_type": "execute_result"
    },
    {
     "data": {
      "image/png": "[encoded data removed]",
      "text/plain": [
       "<Figure size 432x288 with 1 Axes>"
      ]
     },
     "metadata": {
      "needs_background": "light"
     },
     "output_type": "display_data"
    }
   ],
   "source": [
    "mala_dens, bins, _ = plt.hist(mala_samples, bins=120, density=True)\n",
    "dens = np.zeros((bins.size, 1))\n",
    "for i in range(dens.size):\n",
    "    dens[i] = norm(bins[i])\n",
    "plt.plot(bins, dens)"
   ]
  },
  {
   "cell_type": "markdown",
   "metadata": {},
   "source": [
    "### Hamiltonian Monte Carlo (HMC)"
   ]
  },
  {
   "cell_type": "markdown",
   "metadata": {},
   "source": [
    "Startujemy z rozkładu $$ \\pi(q) = e^{-V(q)}. $$\n",
    "Dodajemy sztuczną zmienną (pęd) $p$:\n",
    "$$ \\pi(q,p) = \\pi(q)\\pi(p|q) = e^{-V(q)-K(p,q)}.$$\n",
    "Zazwyczaj $K(p,q) = \\frac{p^Tp}{2}.$"
   ]
  },
  {
   "cell_type": "markdown",
   "metadata": {},
   "source": [
    "$$ H(q,p) = V(q) + K(p,q) $$\n",
    "Chcemy\n",
    "$$ \\frac{\\partial}{\\partial t} H = 0 $$\n",
    "czyli\n",
    "$$ \\frac{\\partial q}{\\partial t} = \\frac{\\partial H}{\\partial p} $$\n",
    "$$ \\frac{\\partial p}{\\partial t} = - \\frac{\\partial H}{\\partial q} $$\n"
   ]
  },
  {
   "cell_type": "markdown",
   "metadata": {},
   "source": [
    "bo wtedy zachowamy łączny rozkład, więc w szczególności zachowamy brzegowy."
   ]
  },
  {
   "cell_type": "markdown",
   "metadata": {},
   "source": [
    "##### LFI:"
   ]
  },
  {
   "cell_type": "markdown",
   "metadata": {},
   "source": [
    "$p^0, q^0 \\rightarrow p^1, q^1$\n",
    "\n",
    "$\\varepsilon$ - krok dyskretyzacji"
   ]
  },
  {
   "cell_type": "markdown",
   "metadata": {},
   "source": [
    "$$p^{\\frac 1 2} = p^0 - \\frac \\varepsilon 2 \\frac{\\partial V}{\\partial q}(q^0)$$\n",
    "$$ q^1 = q^0 + \\varepsilon p^{\\frac 1 2}$$\n",
    "$$ p^1 = p^{\\frac 1 2} - \\frac \\varepsilon 2 \\frac{\\partial V}{\\partial q}(q^1)$$"
   ]
  },
  {
   "cell_type": "code",
   "execution_count": 49,
   "metadata": {},
   "outputs": [],
   "source": [
    "def hamiltonian_lfi(p0, q0, grad_v, epsilon, l):\n",
    "    p = p0\n",
    "    q = q0\n",
    "    for i in range(l):\n",
    "        p_half = p - (epsilon/2)*grad_v(q)\n",
    "        q += epsilon * p_half\n",
    "        p = p_half - (epsilon/2) * grad_v(q)\n",
    "    return np.stack((q,p))"
   ]
  },
  {
   "cell_type": "markdown",
   "metadata": {},
   "source": [
    "##### Algorytm:"
   ]
  },
  {
   "cell_type": "markdown",
   "metadata": {},
   "source": [
    "$ q_n \\rightarrow q_{n+1} $"
   ]
  },
  {
   "cell_type": "markdown",
   "metadata": {},
   "source": [
    "1. $q^0 = q_n, p_0 \\sim \\mathcal{N}(0, \\text{Id})$\n",
    "2. $q^0, p^0 \\rightarrow q^l, p^l$ - Leap Frog Integrator\n",
    "3. $\\alpha = \\exp\\{-V(q^l) - K(-p^l) + V(q^0) + K(p^0)\\} \\wedge 1$ (dajemy $-p^l$, ale to jest symetryczne)\n",
    "4. $q_{n+1} = q^l$ z prawdopodobieństwem $\\alpha$"
   ]
  },
  {
   "cell_type": "code",
   "execution_count": 50,
   "metadata": {},
   "outputs": [],
   "source": [
    "def hmc(q_0, epsilon, l, v, grad_v, n, k=lambda p: np.sum(p**2)):\n",
    "    q_vec = np.zeros((n,q_0.size))\n",
    "    q_vec[0] = q_0\n",
    "    for i in range(1, n):\n",
    "        q = q_vec[i-1]\n",
    "        p = np.random.randn(q.size)\n",
    "        alpha_2nd = v(q) + k(p)\n",
    "        q, p = hamiltonian_lfi(p, q, grad_v, epsilon, l)\n",
    "        alpha_1st = -v(q) - k(-p)\n",
    "        alpha_cand = np.exp(alpha_1st + alpha_2nd)\n",
    "        alpha = min(1, alpha_cand)\n",
    "        if np.random.rand() < alpha:\n",
    "            q_vec[i] = q\n",
    "        else:\n",
    "            q_vec[i] = q_vec[i-1]\n",
    "    return q_vec"
   ]
  },
  {
   "cell_type": "code",
   "execution_count": 51,
   "metadata": {},
   "outputs": [],
   "source": [
    "def v_for_normal(q):\n",
    "    n = q.size\n",
    "    return np.sum(q**2)/2 + (n/2)*np.log(2*np.pi)\n",
    "\n",
    "def grad_v(q):\n",
    "    return q"
   ]
  },
  {
   "cell_type": "code",
   "execution_count": 59,
   "metadata": {},
   "outputs": [],
   "source": [
    "qs = hmc(np.zeros((1,1)), 0.001, 100, v_for_normal, grad_v, 10**5)"
   ]
  },
  {
   "cell_type": "code",
   "execution_count": 60,
   "metadata": {},
   "outputs": [
    {
     "data": {
      "text/plain": [
       "[<matplotlib.lines.Line2D at 0x168e6d2f908>]"
      ]
     },
     "execution_count": 60,
     "metadata": {},
     "output_type": "execute_result"
    },
    {
     "data": {
      "image/png": "[encoded data removed]",
      "text/plain": [
       "<Figure size 432x288 with 1 Axes>"
      ]
     },
     "metadata": {
      "needs_background": "light"
     },
     "output_type": "display_data"
    }
   ],
   "source": [
    "n, bins, _ = plt.hist(qs[:,0], bins=120, density=True)\n",
    "dens = np.zeros((bins.size, 1))\n",
    "for i in range(dens.size):\n",
    "    dens[i] = np.exp(-v_for_normal(bins[i]))\n",
    "plt.plot(bins, dens)"
   ]
  },
  {
   "cell_type": "code",
   "execution_count": null,
   "metadata": {},
   "outputs": [],
   "source": []
  }
 ],
 "metadata": {
  "kernelspec": {
   "display_name": "Python 3",
   "language": "python",
   "name": "python3"
  },
  "language_info": {
   "codemirror_mode": {
    "name": "ipython",
    "version": 3
   },
   "file_extension": ".py",
   "mimetype": "text/x-python",
   "name": "python",
   "nbconvert_exporter": "python",
   "pygments_lexer": "ipython3",
   "version": "3.7.0"
  }
 },
 "nbformat": 4,
 "nbformat_minor": 2
}
